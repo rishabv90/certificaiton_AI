{
  "nbformat": 4,
  "nbformat_minor": 0,
  "metadata": {
    "colab": {
      "name": "Exercise 3 - Question.ipynb",
      "version": "0.3.2",
      "provenance": [],
      "collapsed_sections": []
    },
    "kernelspec": {
      "name": "python3",
      "display_name": "Python 3"
    }
  },
  "cells": [
    {
      "cell_type": "markdown",
      "metadata": {
        "id": "iQjHqsmTAVLU",
        "colab_type": "text"
      },
      "source": [
        "## Exercise 3\n",
        "In the videos you looked at how you would improve Fashion MNIST using Convolutions. For your exercise see if you can improve MNIST to 99.8% accuracy or more using only a single convolutional layer and a single MaxPooling 2D. You should stop training once the accuracy goes above this amount. It should happen in less than 20 epochs, so it's ok to hard code the number of epochs for training, but your training must end once it hits the above metric. If it doesn't, then you'll need to redesign your layers.\n",
        "\n",
        "I've started the code for you -- you need to finish it!\n",
        "\n",
        "When 99.8% accuracy has been hit, you should print out the string \"Reached 99.8% accuracy so cancelling training!\"\n"
      ]
    },
    {
      "cell_type": "code",
      "metadata": {
        "id": "sfQRyaJWAIdg",
        "colab_type": "code",
        "colab": {
          "base_uri": "https://localhost:8080/",
          "height": 470
        },
        "outputId": "ff441d4e-ef0b-4c9a-b85c-743991cd665b"
      },
      "source": [
        "import tensorflow as tf\n",
        "\n",
        "# YOUR CODE STARTS HERE\n",
        "\n",
        "class myCallback(tf.keras.callbacks.Callback):\n",
        "  def on_epoch_end(self, epoch, logs={}):\n",
        "    if(logs.get('acc')>0.998):\n",
        "      print('\\n\\n\\n Reached 99.8% accuracy so cancelling training!\\n\\n\\n')\n",
        "      self.model.stop_training = True #call back stuff\n",
        "\n",
        "# YOUR CODE ENDS HERE\n",
        "\n",
        "mnist = tf.keras.datasets.mnist\n",
        "(training_images, training_labels), (test_images, test_labels) = mnist.load_data()\n",
        "\n",
        "# YOUR CODE STARTS HERE\n",
        "\n",
        "training_images=training_images.reshape(60000, 28, 28, 1) #reshape for 1 dimension \n",
        "test_images = test_images.reshape(10000, 28, 28, 1) \n",
        "\n",
        "\n",
        "training_images=training_images / 255.0\n",
        "test_images=test_images/255.0\n",
        "\n",
        "stoop = myCallback()\n",
        "\n",
        "\n",
        "# YOUR CODE ENDS HERE\n",
        "\n",
        "model = tf.keras.models.Sequential([\n",
        "    # YOUR CODE STARTS HERE\n",
        "    tf.keras.layers.Conv2D(32, (3,3), activation='relu', input_shape=(28, 28, 1)),\n",
        "    tf.keras.layers.MaxPooling2D(2, 2),\n",
        "    tf.keras.layers.Flatten(),\n",
        "    tf.keras.layers.Dense(128, activation='relu'),\n",
        "    tf.keras.layers.Dense(10, activation='softmax')\n",
        "    # YOUR CODE ENDS HERE\n",
        "])\n",
        "\n",
        "# YOUR CODE STARTS HERE\n",
        "\n",
        "model.compile(optimizer='adam', loss='sparse_categorical_crossentropy', metrics=['accuracy'])\n",
        "model.fit(training_images, training_labels, epochs=10, callbacks=[stoop])\n",
        "test_loss, test_acc = model.evaluate(test_images, test_labels)\n",
        "print(test_acc)\n",
        "\n",
        "# YOUR CODE ENDS HERE\n",
        "\n"
      ],
      "execution_count": 2,
      "outputs": [
        {
          "output_type": "stream",
          "text": [
            "Epoch 1/10\n",
            "60000/60000 [==============================] - 39s 655us/sample - loss: 0.1443 - acc: 0.9576\n",
            "Epoch 2/10\n",
            "60000/60000 [==============================] - 40s 664us/sample - loss: 0.0493 - acc: 0.9850\n",
            "Epoch 3/10\n",
            "60000/60000 [==============================] - 41s 678us/sample - loss: 0.0302 - acc: 0.9907\n",
            "Epoch 4/10\n",
            "60000/60000 [==============================] - 41s 683us/sample - loss: 0.0206 - acc: 0.9930\n",
            "Epoch 5/10\n",
            "60000/60000 [==============================] - 41s 688us/sample - loss: 0.0131 - acc: 0.9959\n",
            "Epoch 6/10\n",
            "60000/60000 [==============================] - 40s 661us/sample - loss: 0.0097 - acc: 0.9969\n",
            "Epoch 7/10\n",
            "60000/60000 [==============================] - 39s 651us/sample - loss: 0.0078 - acc: 0.9976\n",
            "Epoch 8/10\n",
            "60000/60000 [==============================] - 39s 658us/sample - loss: 0.0062 - acc: 0.9979\n",
            "Epoch 9/10\n",
            "59968/60000 [============================>.] - ETA: 0s - loss: 0.0057 - acc: 0.9980\n",
            "\n",
            "\n",
            " Reached 99.8% accuracy so cancelling training!\n",
            "\n",
            "\n",
            "\n",
            "60000/60000 [==============================] - 39s 652us/sample - loss: 0.0057 - acc: 0.9980\n",
            "10000/10000 [==============================] - 2s 208us/sample - loss: 0.0683 - acc: 0.9843\n",
            "0.9843\n"
          ],
          "name": "stdout"
        }
      ]
    }
  ]
}